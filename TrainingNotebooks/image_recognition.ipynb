{
 "cells": [
  {
   "cell_type": "markdown",
   "id": "53b539f2",
   "metadata": {},
   "source": [
    "## Asignment: Computer vison course\n",
    "- Alumno 1: Daniel Carmona Pedrajas\n",
    "- Alumno 2: Joel Pardo Ferrera\n",
    "\n",
    "The goals of this assignment are:\n",
    "+ Develop proficiency in using Tensorflow/Keras for training neural nets (NNs).\n",
    "+ Put in practice Unit 4 knowledge to optimize the parameters and architecture of a feed-forward Neural Net (ffNN), in the context of a computer vision problem.\n",
    "+ Use NNs specially conceived for analysing images. Design and optimize the parameters of a Convolutional Neural Net (cNN).\n",
    "\n",
    "Follow the link above to download the classification benchmark termed “xview_recognition”: [https://drive.upm.es/s/c4gfDOOwWfPdm0z](https://drive.upm.es/s/c4gfDOOwWfPdm0z\")"
   ]
  },
  {
   "cell_type": "code",
   "execution_count": 2,
   "id": "a871a32f",
   "metadata": {},
   "outputs": [],
   "source": [
    "IMAGES_PATH = \"../../ImagenesPractica/xview_recognition/\"\n",
    "MODELS_PATH = \"../Models/\"\n",
    "MODELS_HISTORY_PATH = f\"{MODELS_PATH}/model_history.c"
   ]
  },
  {
   "cell_type": "code",
   "execution_count": null,
   "id": "630c4320",
   "metadata": {},
   "outputs": [],
   "source": []
  }
 ],
 "metadata": {
  "kernelspec": {
   "display_name": "Python 3 (ipykernel)",
   "language": "python",
   "name": "python3"
  },
  "language_info": {
   "codemirror_mode": {
    "name": "ipython",
    "version": 3
   },
   "file_extension": ".py",
   "mimetype": "text/x-python",
   "name": "python",
   "nbconvert_exporter": "python",
   "pygments_lexer": "ipython3",
   "version": "3.10.4"
  }
 },
 "nbformat": 4,
 "nbformat_minor": 5
}
